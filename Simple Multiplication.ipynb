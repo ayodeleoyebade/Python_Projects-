{
 "cells": [
  {
   "cell_type": "markdown",
   "metadata": {},
   "source": [
    "# SIMPLE MULTIPLICATION CALCULATOR"
   ]
  },
  {
   "cell_type": "code",
   "execution_count": 1,
   "metadata": {},
   "outputs": [
    {
     "name": "stdin",
     "output_type": "stream",
     "text": [
      "Enter your first digit:... 2\n"
     ]
    },
    {
     "name": "stdout",
     "output_type": "stream",
     "text": [
      "Your first digit is 2.0\n"
     ]
    },
    {
     "name": "stdin",
     "output_type": "stream",
     "text": [
      "Enter your first digit:... 3\n"
     ]
    },
    {
     "name": "stdout",
     "output_type": "stream",
     "text": [
      "Your first digit is 3.0\n",
      "The answer is 6.0\n"
     ]
    }
   ],
   "source": [
    "M1 = input(\"Enter your first digit:...\")\n",
    "try:\n",
    "    value1 = float(M1)\n",
    "    print(\"Your first digit is \" + str(value1) )\n",
    "except ValueError:\n",
    "    print(\"Your first digit is invalid\")\n",
    "\n",
    "M2 = input(\"Enter your first digit:...\")\n",
    "try:\n",
    "    value2 = float(M2)\n",
    "    print(\"Your first digit is \" + str(value2) )\n",
    "except ValueError:\n",
    "    print(\"Your second digit is invalid\")\n",
    "    print(\"please try again\")\n",
    "\n",
    "\n",
    "A1 = value1*value2\n",
    "print(\"The answer is \" + str(A1))\n"
   ]
  }
 ],
 "metadata": {
  "kernelspec": {
   "display_name": "Python",
   "language": "python",
   "name": "conda-env-python-py"
  },
  "language_info": {
   "codemirror_mode": {
    "name": "ipython",
    "version": 3
   },
   "file_extension": ".py",
   "mimetype": "text/x-python",
   "name": "python",
   "nbconvert_exporter": "python",
   "pygments_lexer": "ipython3",
   "version": "3.6.7"
  }
 },
 "nbformat": 4,
 "nbformat_minor": 4
}
