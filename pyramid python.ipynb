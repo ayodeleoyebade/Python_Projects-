{
 "cells": [
  {
   "cell_type": "markdown",
   "metadata": {},
   "source": [
    "Drawing a pyramid"
   ]
  },
  {
   "cell_type": "code",
   "execution_count": null,
   "metadata": {},
   "outputs": [],
   "source": [
    "#option 1"
   ]
  },
  {
   "cell_type": "code",
   "execution_count": null,
   "metadata": {},
   "outputs": [],
   "source": [
    "#half pyramid  (option 1) "
   ]
  },
  {
   "cell_type": "code",
   "execution_count": 9,
   "metadata": {},
   "outputs": [
    {
     "name": "stdout",
     "output_type": "stream",
     "text": [
      "x \r\n",
      "x x \r\n",
      "x x x \r\n",
      "x x x x \r\n",
      "x x x x x \r\n"
     ]
    }
   ],
   "source": [
    "def pyramid(p):\n",
    "   for m in range(0, p):\n",
    "      for n in range(0, m+1):\n",
    "         print(\"x \",end=\"\")\n",
    "      print(\"\\r\")\n",
    "p = 5\n",
    "pyramid(p)"
   ]
  },
  {
   "cell_type": "code",
   "execution_count": null,
   "metadata": {},
   "outputs": [],
   "source": [
    "#half pyramid (option 2)"
   ]
  },
  {
   "cell_type": "code",
   "execution_count": 5,
   "metadata": {},
   "outputs": [
    {
     "name": "stdout",
     "output_type": "stream",
     "text": [
      "\n",
      "x\n",
      "xx\n",
      "xxx\n",
      "xxxx\n",
      "xxxxx\n"
     ]
    }
   ],
   "source": [
    "for r in range (0,6):\n",
    "    print(r*\"x\")\n"
   ]
  },
  {
   "cell_type": "code",
   "execution_count": null,
   "metadata": {},
   "outputs": [],
   "source": [
    "#Full Pyramid (option 1)"
   ]
  },
  {
   "cell_type": "code",
   "execution_count": 1,
   "metadata": {},
   "outputs": [
    {
     "name": "stdout",
     "output_type": "stream",
     "text": [
      "     x     \n",
      "    xxx    \n",
      "   xxxxx   \n",
      " xxxxxxxx  \n",
      "xxxxxxxxxxx\n"
     ]
    }
   ],
   "source": [
    "\n",
    "print(\"     x     \")\n",
    "print(\"    xxx    \")\n",
    "print(\"   xxxxx   \")\n",
    "print(\" xxxxxxxx  \")\n",
    "print(\"xxxxxxxxxxx\")\n",
    "\n"
   ]
  },
  {
   "cell_type": "code",
   "execution_count": null,
   "metadata": {},
   "outputs": [],
   "source": [
    "#Full Pyramid (option 2)"
   ]
  },
  {
   "cell_type": "code",
   "execution_count": 27,
   "metadata": {},
   "outputs": [
    {
     "name": "stdout",
     "output_type": "stream",
     "text": [
      "      x\n",
      "     xxx\n",
      "    xxxxx\n",
      "   xxxxxxx\n",
      "  xxxxxxxxx\n",
      " xxxxxxxxxxx\n"
     ]
    }
   ],
   "source": [
    "\n",
    "n = 6\n",
    "for i in range (0,n):\n",
    "    for j in range(0,n-i):\n",
    "        print(\" \",end=\"\") \n",
    "    for j in range (0,2*i+1):\n",
    "        print(\"x\", end=\"\")\n",
    "    print(\"\") \n",
    "    "
   ]
  },
  {
   "cell_type": "code",
   "execution_count": null,
   "metadata": {},
   "outputs": [],
   "source": []
  },
  {
   "cell_type": "code",
   "execution_count": null,
   "metadata": {},
   "outputs": [],
   "source": []
  }
 ],
 "metadata": {
  "kernelspec": {
   "display_name": "Python 3",
   "language": "python",
   "name": "python3"
  },
  "language_info": {
   "codemirror_mode": {
    "name": "ipython",
    "version": 3
   },
   "file_extension": ".py",
   "mimetype": "text/x-python",
   "name": "python",
   "nbconvert_exporter": "python",
   "pygments_lexer": "ipython3",
   "version": "3.7.4"
  }
 },
 "nbformat": 4,
 "nbformat_minor": 2
}
